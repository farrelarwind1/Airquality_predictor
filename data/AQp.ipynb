{
 "cells": [
  {
   "cell_type": "code",
   "execution_count": 3,
   "id": "261a029a",
   "metadata": {},
   "outputs": [
    {
     "name": "stdout",
     "output_type": "stream",
     "text": [
      "Collecting protobuf==3.20.*\n",
      "  Downloading protobuf-3.20.3-cp37-cp37m-win_amd64.whl (905 kB)\n",
      "Installing collected packages: protobuf\n",
      "  Attempting uninstall: protobuf\n",
      "    Found existing installation: protobuf 3.19.6\n",
      "    Uninstalling protobuf-3.19.6:\n",
      "      Successfully uninstalled protobuf-3.19.6\n",
      "Note: you may need to restart the kernel to use updated packages.\n"
     ]
    },
    {
     "name": "stderr",
     "output_type": "stream",
     "text": [
      "ERROR: tensorflow-intel 2.11.0 has requirement protobuf<3.20,>=3.9.2, but you'll have protobuf 3.20.3 which is incompatible.\n",
      "ERROR: Could not install packages due to an EnvironmentError: [WinError 5] Access is denied: 'c:\\\\users\\\\farre\\\\appdata\\\\local\\\\programs\\\\python\\\\python37\\\\lib\\\\site-packages\\\\google\\\\~rotobuf\\\\internal\\\\_api_implementation.cp37-win_amd64.pyd'\n",
      "Consider using the `--user` option or check the permissions.\n",
      "\n",
      "WARNING: You are using pip version 20.1.1; however, version 24.0 is available.\n",
      "You should consider upgrading via the 'c:\\Users\\farre\\AppData\\Local\\Programs\\Python\\Python37\\python.exe -m pip install --upgrade pip' command.\n"
     ]
    }
   ],
   "source": [
    "pip install protobuf==3.20.*\n"
   ]
  },
  {
   "cell_type": "code",
   "execution_count": 30,
   "id": "58080f6f",
   "metadata": {},
   "outputs": [],
   "source": [
    "import pandas as pd\n",
    "import numpy as np\n",
    "import tensorflow as tf\n",
    "from tensorflow.keras.models import Model\n",
    "from tensorflow.keras.layers import Input, Dense, Dropout, BatchNormalization\n",
    "from tensorflow.keras.optimizers import Adam\n",
    "from tensorflow.keras.callbacks import EarlyStopping\n",
    "from sklearn.model_selection import train_test_split\n",
    "from sklearn.preprocessing import StandardScaler, LabelEncoder\n",
    "from sklearn.metrics import classification_report\n",
    "import matplotlib.pyplot as plt\n",
    "import streamlit as st\n",
    "import joblib"
   ]
  },
  {
   "cell_type": "code",
   "execution_count": 5,
   "id": "c714aa3f",
   "metadata": {},
   "outputs": [],
   "source": [
    "np.random.seed(42)\n",
    "tf.random.set_seed(42)"
   ]
  },
  {
   "cell_type": "code",
   "execution_count": 6,
   "id": "f78b0ef7",
   "metadata": {},
   "outputs": [
    {
     "data": {
      "text/html": [
       "<div>\n",
       "<style scoped>\n",
       "    .dataframe tbody tr th:only-of-type {\n",
       "        vertical-align: middle;\n",
       "    }\n",
       "\n",
       "    .dataframe tbody tr th {\n",
       "        vertical-align: top;\n",
       "    }\n",
       "\n",
       "    .dataframe thead th {\n",
       "        text-align: right;\n",
       "    }\n",
       "</style>\n",
       "<table border=\"1\" class=\"dataframe\">\n",
       "  <thead>\n",
       "    <tr style=\"text-align: right;\">\n",
       "      <th></th>\n",
       "      <th>tanggal</th>\n",
       "      <th>stasiun</th>\n",
       "      <th>pm25</th>\n",
       "      <th>pm10</th>\n",
       "      <th>so2</th>\n",
       "      <th>co</th>\n",
       "      <th>o3</th>\n",
       "      <th>no2</th>\n",
       "      <th>max</th>\n",
       "      <th>critical</th>\n",
       "      <th>categori</th>\n",
       "    </tr>\n",
       "  </thead>\n",
       "  <tbody>\n",
       "    <tr>\n",
       "      <th>0</th>\n",
       "      <td>2010-01-01</td>\n",
       "      <td>DKI1 (Bunderan HI)</td>\n",
       "      <td>NaN</td>\n",
       "      <td>60.0</td>\n",
       "      <td>4.0</td>\n",
       "      <td>73.0</td>\n",
       "      <td>27.0</td>\n",
       "      <td>14.0</td>\n",
       "      <td>73.0</td>\n",
       "      <td>CO</td>\n",
       "      <td>SEDANG</td>\n",
       "    </tr>\n",
       "    <tr>\n",
       "      <th>1</th>\n",
       "      <td>2010-01-02</td>\n",
       "      <td>DKI1 (Bunderan HI)</td>\n",
       "      <td>NaN</td>\n",
       "      <td>32.0</td>\n",
       "      <td>2.0</td>\n",
       "      <td>16.0</td>\n",
       "      <td>33.0</td>\n",
       "      <td>9.0</td>\n",
       "      <td>33.0</td>\n",
       "      <td>O3</td>\n",
       "      <td>BAIK</td>\n",
       "    </tr>\n",
       "    <tr>\n",
       "      <th>2</th>\n",
       "      <td>2010-01-03</td>\n",
       "      <td>DKI1 (Bunderan HI)</td>\n",
       "      <td>NaN</td>\n",
       "      <td>27.0</td>\n",
       "      <td>2.0</td>\n",
       "      <td>19.0</td>\n",
       "      <td>20.0</td>\n",
       "      <td>9.0</td>\n",
       "      <td>27.0</td>\n",
       "      <td>PM10</td>\n",
       "      <td>BAIK</td>\n",
       "    </tr>\n",
       "    <tr>\n",
       "      <th>3</th>\n",
       "      <td>2010-01-04</td>\n",
       "      <td>DKI1 (Bunderan HI)</td>\n",
       "      <td>NaN</td>\n",
       "      <td>22.0</td>\n",
       "      <td>2.0</td>\n",
       "      <td>16.0</td>\n",
       "      <td>15.0</td>\n",
       "      <td>6.0</td>\n",
       "      <td>22.0</td>\n",
       "      <td>PM10</td>\n",
       "      <td>BAIK</td>\n",
       "    </tr>\n",
       "    <tr>\n",
       "      <th>4</th>\n",
       "      <td>2010-01-05</td>\n",
       "      <td>DKI1 (Bunderan HI)</td>\n",
       "      <td>NaN</td>\n",
       "      <td>25.0</td>\n",
       "      <td>2.0</td>\n",
       "      <td>17.0</td>\n",
       "      <td>15.0</td>\n",
       "      <td>8.0</td>\n",
       "      <td>25.0</td>\n",
       "      <td>PM10</td>\n",
       "      <td>BAIK</td>\n",
       "    </tr>\n",
       "  </tbody>\n",
       "</table>\n",
       "</div>"
      ],
      "text/plain": [
       "      tanggal             stasiun  pm25  pm10  so2    co    o3   no2   max  \\\n",
       "0  2010-01-01  DKI1 (Bunderan HI)   NaN  60.0  4.0  73.0  27.0  14.0  73.0   \n",
       "1  2010-01-02  DKI1 (Bunderan HI)   NaN  32.0  2.0  16.0  33.0   9.0  33.0   \n",
       "2  2010-01-03  DKI1 (Bunderan HI)   NaN  27.0  2.0  19.0  20.0   9.0  27.0   \n",
       "3  2010-01-04  DKI1 (Bunderan HI)   NaN  22.0  2.0  16.0  15.0   6.0  22.0   \n",
       "4  2010-01-05  DKI1 (Bunderan HI)   NaN  25.0  2.0  17.0  15.0   8.0  25.0   \n",
       "\n",
       "  critical categori  \n",
       "0       CO   SEDANG  \n",
       "1       O3     BAIK  \n",
       "2     PM10     BAIK  \n",
       "3     PM10     BAIK  \n",
       "4     PM10     BAIK  "
      ]
     },
     "execution_count": 6,
     "metadata": {},
     "output_type": "execute_result"
    }
   ],
   "source": [
    "df = pd.read_csv('ispu_dki1.csv')\n",
    "df.head()"
   ]
  },
  {
   "cell_type": "code",
   "execution_count": 16,
   "id": "33c3b206",
   "metadata": {},
   "outputs": [
    {
     "data": {
      "text/plain": [
       "(5059, 11)"
      ]
     },
     "execution_count": 16,
     "metadata": {},
     "output_type": "execute_result"
    }
   ],
   "source": [
    "df.shape"
   ]
  },
  {
   "cell_type": "markdown",
   "id": "157e786a",
   "metadata": {},
   "source": [
    "### DATA PREPROCESSING"
   ]
  },
  {
   "cell_type": "code",
   "execution_count": 7,
   "id": "5c41eea8",
   "metadata": {},
   "outputs": [],
   "source": [
    "categories = ['BAIK', 'SEDANG', 'TIDAK SEHAT']\n",
    "df = df[df['categori'].isin(categories)]"
   ]
  },
  {
   "cell_type": "code",
   "execution_count": 9,
   "id": "e325366e",
   "metadata": {},
   "outputs": [
    {
     "data": {
      "text/plain": [
       "tanggal        0\n",
       "stasiun        0\n",
       "pm25        3913\n",
       "pm10         102\n",
       "so2           74\n",
       "co            54\n",
       "o3            95\n",
       "no2           85\n",
       "max            0\n",
       "critical       0\n",
       "categori       0\n",
       "dtype: int64"
      ]
     },
     "execution_count": 9,
     "metadata": {},
     "output_type": "execute_result"
    }
   ],
   "source": [
    "df.isnull().sum()"
   ]
  },
  {
   "cell_type": "code",
   "execution_count": 17,
   "id": "86d316e7",
   "metadata": {},
   "outputs": [
    {
     "data": {
      "text/plain": [
       "tanggal     0\n",
       "stasiun     0\n",
       "pm25        0\n",
       "pm10        0\n",
       "so2         0\n",
       "co          0\n",
       "o3          0\n",
       "no2         0\n",
       "max         0\n",
       "critical    0\n",
       "categori    0\n",
       "dtype: int64"
      ]
     },
     "execution_count": 17,
     "metadata": {},
     "output_type": "execute_result"
    }
   ],
   "source": [
    "features = ['pm25', 'pm10', 'so2', 'co', 'o3', 'no2']\n",
    "for col in ['pm25', 'pm10', 'so2', 'co', 'o3', 'no2']:\n",
    "    df[col] = df[col].fillna(df[col].mean())\n",
    "\n",
    "df.isnull().sum()"
   ]
  },
  {
   "cell_type": "code",
   "execution_count": 18,
   "id": "884a4136",
   "metadata": {},
   "outputs": [],
   "source": [
    "le = LabelEncoder()\n",
    "y = le.fit_transform(df['categori'])"
   ]
  },
  {
   "cell_type": "code",
   "execution_count": 19,
   "id": "e5894816",
   "metadata": {},
   "outputs": [],
   "source": [
    "scaler = StandardScaler()\n",
    "X = scaler.fit_transform(df[features])\n",
    "\n",
    "X_train, X_test, y_train, y_test = train_test_split(X, y, test_size=0.2, random_state=42, stratify=y)"
   ]
  },
  {
   "cell_type": "code",
   "execution_count": 21,
   "id": "f46f9f77",
   "metadata": {},
   "outputs": [
    {
     "name": "stdout",
     "output_type": "stream",
     "text": [
      "Train set distribution: (array([0, 1, 2]), array([ 951, 2947,  149], dtype=int64))\n",
      "Test set distribution: (array([0, 1, 2]), array([238, 737,  37], dtype=int64))\n"
     ]
    }
   ],
   "source": [
    "print(\"Train set distribution:\", np.unique(y_train, return_counts=True))\n",
    "print(\"Test set distribution:\", np.unique(y_test, return_counts=True))"
   ]
  },
  {
   "cell_type": "markdown",
   "id": "6b7bc392",
   "metadata": {},
   "source": [
    "### MACHINE LEARNING MODEL"
   ]
  },
  {
   "cell_type": "code",
   "execution_count": 22,
   "id": "b7145c8b",
   "metadata": {},
   "outputs": [],
   "source": [
    "def build_model(input_shape, num_classes):\n",
    "    inputs = Input(shape=(input_shape,))\n",
    "    \n",
    "    x = Dense(128, activation='relu')(inputs)\n",
    "    x = BatchNormalization()(x)\n",
    "    x = Dropout(0.3)(x)\n",
    "    \n",
    "    x = Dense(64, activation='relu')(x)\n",
    "    x = BatchNormalization()(x)\n",
    "    x = Dropout(0.3)(x)\n",
    "    \n",
    "    x = Dense(32, activation='relu')(x)\n",
    "    x = BatchNormalization()(x)\n",
    "    \n",
    "    outputs = Dense(num_classes, activation='softmax')(x)\n",
    "    \n",
    "    model = Model(inputs=inputs, outputs=outputs)\n",
    "    model.compile(optimizer=Adam(learning_rate=0.001),\n",
    "                  loss='sparse_categorical_crossentropy',\n",
    "                  metrics=['accuracy'])\n",
    "    \n",
    "    return model"
   ]
  },
  {
   "cell_type": "code",
   "execution_count": 23,
   "id": "80bd99c9",
   "metadata": {},
   "outputs": [
    {
     "name": "stdout",
     "output_type": "stream",
     "text": [
      "Model: \"model\"\n",
      "_________________________________________________________________\n",
      " Layer (type)                Output Shape              Param #   \n",
      "=================================================================\n",
      " input_1 (InputLayer)        [(None, 6)]               0         \n",
      "                                                                 \n",
      " dense (Dense)               (None, 128)               896       \n",
      "                                                                 \n",
      " batch_normalization (BatchN  (None, 128)              512       \n",
      " ormalization)                                                   \n",
      "                                                                 \n",
      " dropout (Dropout)           (None, 128)               0         \n",
      "                                                                 \n",
      " dense_1 (Dense)             (None, 64)                8256      \n",
      "                                                                 \n",
      " batch_normalization_1 (Batc  (None, 64)               256       \n",
      " hNormalization)                                                 \n",
      "                                                                 \n",
      " dropout_1 (Dropout)         (None, 64)                0         \n",
      "                                                                 \n",
      " dense_2 (Dense)             (None, 32)                2080      \n",
      "                                                                 \n",
      " batch_normalization_2 (Batc  (None, 32)               128       \n",
      " hNormalization)                                                 \n",
      "                                                                 \n",
      " dense_3 (Dense)             (None, 3)                 99        \n",
      "                                                                 \n",
      "=================================================================\n",
      "Total params: 12,227\n",
      "Trainable params: 11,779\n",
      "Non-trainable params: 448\n",
      "_________________________________________________________________\n"
     ]
    }
   ],
   "source": [
    "model = build_model(X_train.shape[1], len(le.classes_))\n",
    "model.summary()"
   ]
  },
  {
   "cell_type": "markdown",
   "id": "846be16d",
   "metadata": {},
   "source": [
    "### MODEL TRAINING"
   ]
  },
  {
   "cell_type": "code",
   "execution_count": 24,
   "id": "50f00340",
   "metadata": {},
   "outputs": [
    {
     "name": "stdout",
     "output_type": "stream",
     "text": [
      "Epoch 1/100\n",
      "127/127 [==============================] - 5s 9ms/step - loss: 0.6640 - accuracy: 0.7499 - val_loss: 0.5183 - val_accuracy: 0.7964\n",
      "Epoch 2/100\n",
      "127/127 [==============================] - 1s 5ms/step - loss: 0.3605 - accuracy: 0.8826 - val_loss: 0.3623 - val_accuracy: 0.8449\n",
      "Epoch 3/100\n",
      "127/127 [==============================] - 1s 5ms/step - loss: 0.2728 - accuracy: 0.9044 - val_loss: 0.2458 - val_accuracy: 0.8953\n",
      "Epoch 4/100\n",
      "127/127 [==============================] - 1s 5ms/step - loss: 0.2585 - accuracy: 0.9036 - val_loss: 0.1641 - val_accuracy: 0.9348\n",
      "Epoch 5/100\n",
      "127/127 [==============================] - 1s 5ms/step - loss: 0.2302 - accuracy: 0.9113 - val_loss: 0.1366 - val_accuracy: 0.9545\n",
      "Epoch 6/100\n",
      "127/127 [==============================] - 1s 5ms/step - loss: 0.2215 - accuracy: 0.9148 - val_loss: 0.1370 - val_accuracy: 0.9555\n",
      "Epoch 7/100\n",
      "127/127 [==============================] - 1s 5ms/step - loss: 0.2324 - accuracy: 0.9115 - val_loss: 0.1250 - val_accuracy: 0.9565\n",
      "Epoch 8/100\n",
      "127/127 [==============================] - 1s 5ms/step - loss: 0.2107 - accuracy: 0.9204 - val_loss: 0.1236 - val_accuracy: 0.9615\n",
      "Epoch 9/100\n",
      "127/127 [==============================] - 1s 5ms/step - loss: 0.2050 - accuracy: 0.9204 - val_loss: 0.1272 - val_accuracy: 0.9555\n",
      "Epoch 10/100\n",
      "127/127 [==============================] - 1s 5ms/step - loss: 0.1835 - accuracy: 0.9241 - val_loss: 0.1223 - val_accuracy: 0.9605\n",
      "Epoch 11/100\n",
      "127/127 [==============================] - 1s 5ms/step - loss: 0.1833 - accuracy: 0.9301 - val_loss: 0.1155 - val_accuracy: 0.9634\n",
      "Epoch 12/100\n",
      "127/127 [==============================] - 1s 5ms/step - loss: 0.1730 - accuracy: 0.9313 - val_loss: 0.1238 - val_accuracy: 0.9486\n",
      "Epoch 13/100\n",
      "127/127 [==============================] - 1s 5ms/step - loss: 0.1761 - accuracy: 0.9254 - val_loss: 0.1190 - val_accuracy: 0.9545\n",
      "Epoch 14/100\n",
      "127/127 [==============================] - 1s 5ms/step - loss: 0.1702 - accuracy: 0.9345 - val_loss: 0.1126 - val_accuracy: 0.9605\n",
      "Epoch 15/100\n",
      "127/127 [==============================] - 1s 5ms/step - loss: 0.1668 - accuracy: 0.9343 - val_loss: 0.1125 - val_accuracy: 0.9585\n",
      "Epoch 16/100\n",
      "127/127 [==============================] - 1s 5ms/step - loss: 0.1657 - accuracy: 0.9318 - val_loss: 0.1153 - val_accuracy: 0.9555\n",
      "Epoch 17/100\n",
      "127/127 [==============================] - 1s 5ms/step - loss: 0.1555 - accuracy: 0.9340 - val_loss: 0.1145 - val_accuracy: 0.9555\n",
      "Epoch 18/100\n",
      "127/127 [==============================] - 1s 5ms/step - loss: 0.1767 - accuracy: 0.9306 - val_loss: 0.1081 - val_accuracy: 0.9536\n",
      "Epoch 19/100\n",
      "127/127 [==============================] - 1s 5ms/step - loss: 0.1595 - accuracy: 0.9390 - val_loss: 0.1068 - val_accuracy: 0.9674\n",
      "Epoch 20/100\n",
      "127/127 [==============================] - 1s 5ms/step - loss: 0.1597 - accuracy: 0.9367 - val_loss: 0.1216 - val_accuracy: 0.9605\n",
      "Epoch 21/100\n",
      "127/127 [==============================] - 1s 5ms/step - loss: 0.1639 - accuracy: 0.9355 - val_loss: 0.1165 - val_accuracy: 0.9585\n",
      "Epoch 22/100\n",
      "127/127 [==============================] - 1s 5ms/step - loss: 0.1569 - accuracy: 0.9390 - val_loss: 0.1059 - val_accuracy: 0.9605\n",
      "Epoch 23/100\n",
      "127/127 [==============================] - 1s 5ms/step - loss: 0.1564 - accuracy: 0.9417 - val_loss: 0.1019 - val_accuracy: 0.9634\n",
      "Epoch 24/100\n",
      "127/127 [==============================] - 1s 5ms/step - loss: 0.1474 - accuracy: 0.9442 - val_loss: 0.1010 - val_accuracy: 0.9644\n",
      "Epoch 25/100\n",
      "127/127 [==============================] - 1s 5ms/step - loss: 0.1485 - accuracy: 0.9424 - val_loss: 0.1002 - val_accuracy: 0.9625\n",
      "Epoch 26/100\n",
      "127/127 [==============================] - 1s 5ms/step - loss: 0.1454 - accuracy: 0.9382 - val_loss: 0.1121 - val_accuracy: 0.9625\n",
      "Epoch 27/100\n",
      "127/127 [==============================] - 1s 5ms/step - loss: 0.1567 - accuracy: 0.9402 - val_loss: 0.1073 - val_accuracy: 0.9565\n",
      "Epoch 28/100\n",
      "127/127 [==============================] - 1s 5ms/step - loss: 0.1459 - accuracy: 0.9402 - val_loss: 0.1108 - val_accuracy: 0.9615\n",
      "Epoch 29/100\n",
      "127/127 [==============================] - 1s 5ms/step - loss: 0.1493 - accuracy: 0.9395 - val_loss: 0.1027 - val_accuracy: 0.9605\n",
      "Epoch 30/100\n",
      "127/127 [==============================] - 1s 5ms/step - loss: 0.1415 - accuracy: 0.9432 - val_loss: 0.1070 - val_accuracy: 0.9565\n",
      "Epoch 31/100\n",
      "127/127 [==============================] - 1s 5ms/step - loss: 0.1296 - accuracy: 0.9503 - val_loss: 0.1056 - val_accuracy: 0.9625\n",
      "Epoch 32/100\n",
      "127/127 [==============================] - 1s 5ms/step - loss: 0.1320 - accuracy: 0.9484 - val_loss: 0.0968 - val_accuracy: 0.9664\n",
      "Epoch 33/100\n",
      "127/127 [==============================] - 1s 5ms/step - loss: 0.1369 - accuracy: 0.9464 - val_loss: 0.1023 - val_accuracy: 0.9684\n",
      "Epoch 34/100\n",
      "127/127 [==============================] - 1s 5ms/step - loss: 0.1348 - accuracy: 0.9449 - val_loss: 0.0989 - val_accuracy: 0.9625\n",
      "Epoch 35/100\n",
      "127/127 [==============================] - 1s 5ms/step - loss: 0.1351 - accuracy: 0.9456 - val_loss: 0.0959 - val_accuracy: 0.9654\n",
      "Epoch 36/100\n",
      "127/127 [==============================] - 1s 5ms/step - loss: 0.1337 - accuracy: 0.9459 - val_loss: 0.1076 - val_accuracy: 0.9545\n",
      "Epoch 37/100\n",
      "127/127 [==============================] - 1s 5ms/step - loss: 0.1314 - accuracy: 0.9476 - val_loss: 0.1108 - val_accuracy: 0.9545\n",
      "Epoch 38/100\n",
      "127/127 [==============================] - 1s 5ms/step - loss: 0.1360 - accuracy: 0.9479 - val_loss: 0.0956 - val_accuracy: 0.9634\n",
      "Epoch 39/100\n",
      "127/127 [==============================] - 1s 5ms/step - loss: 0.1252 - accuracy: 0.9523 - val_loss: 0.1005 - val_accuracy: 0.9615\n",
      "Epoch 40/100\n",
      "127/127 [==============================] - 1s 5ms/step - loss: 0.1293 - accuracy: 0.9508 - val_loss: 0.1005 - val_accuracy: 0.9615\n",
      "Epoch 41/100\n",
      "127/127 [==============================] - 1s 5ms/step - loss: 0.1235 - accuracy: 0.9508 - val_loss: 0.1000 - val_accuracy: 0.9585\n",
      "Epoch 42/100\n",
      "127/127 [==============================] - 1s 5ms/step - loss: 0.1302 - accuracy: 0.9518 - val_loss: 0.1052 - val_accuracy: 0.9555\n",
      "Epoch 43/100\n",
      "127/127 [==============================] - 1s 5ms/step - loss: 0.1482 - accuracy: 0.9392 - val_loss: 0.1094 - val_accuracy: 0.9615\n",
      "Epoch 44/100\n",
      "127/127 [==============================] - 1s 5ms/step - loss: 0.1225 - accuracy: 0.9506 - val_loss: 0.0964 - val_accuracy: 0.9625\n",
      "Epoch 45/100\n",
      "127/127 [==============================] - 1s 5ms/step - loss: 0.1379 - accuracy: 0.9454 - val_loss: 0.0965 - val_accuracy: 0.9634\n",
      "Epoch 46/100\n",
      "127/127 [==============================] - 1s 5ms/step - loss: 0.1290 - accuracy: 0.9508 - val_loss: 0.1146 - val_accuracy: 0.9625\n",
      "Epoch 47/100\n",
      "127/127 [==============================] - 1s 5ms/step - loss: 0.1192 - accuracy: 0.9526 - val_loss: 0.1013 - val_accuracy: 0.9625\n",
      "Epoch 48/100\n",
      "127/127 [==============================] - 1s 5ms/step - loss: 0.1214 - accuracy: 0.9560 - val_loss: 0.0982 - val_accuracy: 0.9634\n"
     ]
    }
   ],
   "source": [
    "early_stopping = EarlyStopping(monitor='val_loss', patience=10, restore_best_weights=True)\n",
    "\n",
    "history = model.fit(\n",
    "    X_train, y_train,\n",
    "    validation_data=(X_test, y_test),\n",
    "    epochs=100,\n",
    "    batch_size=32,\n",
    "    callbacks=[early_stopping],\n",
    "    verbose=1)"
   ]
  },
  {
   "cell_type": "code",
   "execution_count": 25,
   "id": "f97f4655",
   "metadata": {},
   "outputs": [
    {
     "data": {
      "image/png": "[encoded data removed]",
      "text/plain": [
       "<Figure size 1200x400 with 2 Axes>"
      ]
     },
     "metadata": {},
     "output_type": "display_data"
    }
   ],
   "source": [
    "plt.figure(figsize=(12, 4))\n",
    "plt.subplot(1, 2, 1)\n",
    "plt.plot(history.history['accuracy'], label='Training Accuracy')\n",
    "plt.plot(history.history['val_accuracy'], label='Validation Accuracy')\n",
    "plt.title('Accuracy Over Epochs')\n",
    "plt.xlabel('Epoch')\n",
    "plt.ylabel('Accuracy')\n",
    "plt.legend()\n",
    "\n",
    "plt.subplot(1, 2, 2)\n",
    "plt.plot(history.history['loss'], label='Training Loss')\n",
    "plt.plot(history.history['val_loss'], label='Validation Loss')\n",
    "plt.title('Loss Over Epochs')\n",
    "plt.xlabel('Epoch')\n",
    "plt.ylabel('Loss')\n",
    "plt.legend()\n",
    "plt.show()"
   ]
  },
  {
   "cell_type": "markdown",
   "id": "14773b92",
   "metadata": {},
   "source": [
    "### MODEL EVALUATION"
   ]
  },
  {
   "cell_type": "code",
   "execution_count": 26,
   "id": "8d73da4d",
   "metadata": {},
   "outputs": [
    {
     "name": "stdout",
     "output_type": "stream",
     "text": [
      "32/32 [==============================] - 0s 2ms/step\n",
      "\n",
      "Classification Report:\n",
      "              precision    recall  f1-score   support\n",
      "\n",
      "        BAIK       0.95      0.92      0.94       238\n",
      "      SEDANG       0.97      0.99      0.98       737\n",
      " TIDAK SEHAT       1.00      0.81      0.90        37\n",
      "\n",
      "    accuracy                           0.96      1012\n",
      "   macro avg       0.97      0.91      0.94      1012\n",
      "weighted avg       0.96      0.96      0.96      1012\n",
      "\n"
     ]
    }
   ],
   "source": [
    "y_pred = model.predict(X_test)\n",
    "y_pred_classes = np.argmax(y_pred, axis=1)\n",
    "\n",
    "print(\"\\nClassification Report:\")\n",
    "print(classification_report(y_test, y_pred_classes, target_names=le.classes_))"
   ]
  },
  {
   "cell_type": "code",
   "execution_count": null,
   "id": "10681eaa",
   "metadata": {},
   "outputs": [],
   "source": [
    "model.save('air_quality_model.h5')\n",
    "joblib.dump(scaler, 'scaler_modified.pkl')\n",
    "joblib.dump(le, 'label_encoder_modified.pkl')"
   ]
  }
 ],
 "metadata": {
  "kernelspec": {
   "display_name": "Python 3",
   "language": "python",
   "name": "python3"
  },
  "language_info": {
   "codemirror_mode": {
    "name": "ipython",
    "version": 3
   },
   "file_extension": ".py",
   "mimetype": "text/x-python",
   "name": "python",
   "nbconvert_exporter": "python",
   "pygments_lexer": "ipython3",
   "version": "3.7.8"
  }
 },
 "nbformat": 4,
 "nbformat_minor": 5
}
